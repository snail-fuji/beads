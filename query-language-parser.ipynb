{
 "cells": [
  {
   "cell_type": "code",
   "execution_count": 1,
   "id": "77ff7b9f",
   "metadata": {},
   "outputs": [],
   "source": [
    "from lark import Lark"
   ]
  },
  {
   "cell_type": "code",
   "execution_count": 299,
   "id": "1555fa44",
   "metadata": {},
   "outputs": [],
   "source": [
    "grammar = Lark('''\n",
    "start: node (\"=>\" node)*\n",
    "node: alias? (parent \"->\")? event_name conditions\n",
    "alias: NAME \":\"\n",
    "parent: NAME\n",
    "event_name: NAME\n",
    "conditions: (\"[\" CONDITION \"]\")*\n",
    "CONDITION: /[^\\]]+/\n",
    "\n",
    "%import common.CNAME -> NAME\n",
    "%import common.NEWLINE\n",
    "%import common.WS\n",
    "\n",
    "%ignore WS\n",
    "%ignore NEWLINE\n",
    "''')"
   ]
  },
  {
   "cell_type": "code",
   "execution_count": 300,
   "id": "6a60f095",
   "metadata": {},
   "outputs": [],
   "source": [
    "query = \"B: round_3_start\""
   ]
  },
  {
   "cell_type": "code",
   "execution_count": 301,
   "id": "69c4afce",
   "metadata": {},
   "outputs": [],
   "source": [
    "query = \"B: A -> round_3_start\""
   ]
  },
  {
   "cell_type": "code",
   "execution_count": 302,
   "id": "6d5627a3",
   "metadata": {},
   "outputs": [],
   "source": [
    "query = \"B: A -> round_3_start[i == 1][i]\""
   ]
  },
  {
   "cell_type": "code",
   "execution_count": 303,
   "id": "27857d09",
   "metadata": {},
   "outputs": [],
   "source": [
    "query = \"test => test2\""
   ]
  },
  {
   "cell_type": "code",
   "execution_count": 304,
   "id": "eaffb76f",
   "metadata": {},
   "outputs": [],
   "source": [
    "query = \"test => test -> test2\""
   ]
  },
  {
   "cell_type": "code",
   "execution_count": 305,
   "id": "505f3719",
   "metadata": {},
   "outputs": [],
   "source": [
    "query = \"B: A -> round_3_start[this.rel_time > 0][this.time < A.time]\""
   ]
  },
  {
   "cell_type": "code",
   "execution_count": 306,
   "id": "beb9fd9e",
   "metadata": {},
   "outputs": [],
   "source": [
    "query = \"\"\"\n",
    "B: round_3_start\n",
    "=> A: camp_combat_start[\n",
    "    (B.time - this.time < 30)\n",
    "]\n",
    "=> A -> camp_combat_end\n",
    "=> B -> round_3_end\n",
    "\"\"\""
   ]
  },
  {
   "cell_type": "code",
   "execution_count": 307,
   "id": "23aca46b",
   "metadata": {},
   "outputs": [],
   "source": [
    "tokens = grammar.parse(query)"
   ]
  },
  {
   "cell_type": "code",
   "execution_count": 308,
   "id": "a68a99b0",
   "metadata": {},
   "outputs": [],
   "source": [
    "def find_node_data(tree, filter_string, multiple=False):\n",
    "    nodes = list(tree.find_data(filter_string))\n",
    "    if len(nodes) == 0:\n",
    "        return None\n",
    "    \n",
    "    node = nodes[0]\n",
    "    if len(node.children) == 0:\n",
    "        return None\n",
    "    \n",
    "    if multiple:\n",
    "        return nodes[0].children\n",
    "    else:\n",
    "        return nodes[0].children[0]"
   ]
  },
  {
   "cell_type": "code",
   "execution_count": 309,
   "id": "483bb21d",
   "metadata": {},
   "outputs": [],
   "source": [
    "import ast\n",
    "\n",
    "def find_variables(expression):\n",
    "    class VariableVisitor(ast.NodeVisitor):\n",
    "        def __init__(self):\n",
    "            self.variables = set()\n",
    "\n",
    "        def visit_Name(self, node):\n",
    "            if isinstance(node.ctx, ast.Load):\n",
    "                self.variables.add(node.id)\n",
    "\n",
    "    tree = ast.parse(expression)\n",
    "    visitor = VariableVisitor()\n",
    "    visitor.visit(tree)\n",
    "    return visitor.variables"
   ]
  },
  {
   "cell_type": "code",
   "execution_count": 310,
   "id": "9ba844e4",
   "metadata": {},
   "outputs": [],
   "source": [
    "def process_condition(condition_string):\n",
    "    condition_string = str(condition_string).strip()\n",
    "    variables = find_variables(condition_string)\n",
    "    if 'this' not in variables:\n",
    "        raise Exception(\"this.* reference is not found\")\n",
    "    if len(variables) == 1:\n",
    "        return condition_string.replace('this.', ''), []\n",
    "    if len(variables) == 2:\n",
    "        second_node = [v for v in variables if v != 'this'][0]\n",
    "        \n",
    "        return condition_string.replace(\n",
    "            'this.', 'A_'\n",
    "        ).replace(\n",
    "            f'{second_node}.', 'B_'\n",
    "        ), [second_node]\n",
    "    else:\n",
    "        raise Exception(f\"Wrong number of variables: {variables}\")"
   ]
  },
  {
   "cell_type": "code",
   "execution_count": 311,
   "id": "f6b9b40d",
   "metadata": {},
   "outputs": [],
   "source": [
    "query = []\n",
    "aliases = {}\n",
    "\n",
    "for node_index, node in enumerate(tokens.children):\n",
    "    node_dict = {\n",
    "        'node_conditions': [],\n",
    "        'order_conditions': []\n",
    "    }\n",
    "    \n",
    "    node_alias = find_node_data(node, 'alias')\n",
    "    if node_alias:\n",
    "        aliases[node_alias] = node_index\n",
    "    \n",
    "    node_type = find_node_data(node, 'event_name')\n",
    "    if node_type:\n",
    "        node_dict['node_conditions'].append(f'type == \"{node_type}\"')\n",
    "        \n",
    "    node_parent = find_node_data(node, 'parent')\n",
    "    if node_parent:\n",
    "        parent_index = aliases[node_parent]\n",
    "        node_dict['order_conditions'].append({\n",
    "            'node_used': parent_index,\n",
    "            'condition': 'A_start_id == B_end_id'\n",
    "        })\n",
    "        \n",
    "    node_conditions = find_node_data(node, 'conditions', multiple=True)\n",
    "    if node_conditions:\n",
    "        for condition in node_conditions:\n",
    "            pandas_condition, condition_nodes = process_condition(condition)\n",
    "            if len(condition_nodes) == 0:\n",
    "                node_dict['node_conditions'].append(pandas_condition)\n",
    "            if len(condition_nodes) == 1:\n",
    "                condition_node_index = aliases[condition_nodes[0]]\n",
    "                node_dict['order_conditions'].append({\n",
    "                    'node_used': condition_node_index,\n",
    "                    'condition': pandas_condition\n",
    "                })\n",
    "    query.append((\n",
    "        str(node_index),\n",
    "        node_dict\n",
    "    ))"
   ]
  },
  {
   "cell_type": "code",
   "execution_count": 312,
   "id": "7caa3d97",
   "metadata": {},
   "outputs": [
    {
     "data": {
      "text/plain": [
       "[('0',\n",
       "  {'node_conditions': ['type == \"round_3_start\"'], 'order_conditions': []}),\n",
       " ('1',\n",
       "  {'node_conditions': ['type == \"camp_combat_start\"'],\n",
       "   'order_conditions': [{'node_used': 0,\n",
       "     'condition': '(B_time - A_time < 30)'}]}),\n",
       " ('2',\n",
       "  {'node_conditions': ['type == \"camp_combat_end\"'],\n",
       "   'order_conditions': [{'node_used': 1,\n",
       "     'condition': 'A_start_id == B_end_id'}]}),\n",
       " ('3',\n",
       "  {'node_conditions': ['type == \"round_3_end\"'],\n",
       "   'order_conditions': [{'node_used': 0,\n",
       "     'condition': 'A_start_id == B_end_id'}]})]"
      ]
     },
     "execution_count": 312,
     "metadata": {},
     "output_type": "execute_result"
    }
   ],
   "source": [
    "query"
   ]
  },
  {
   "cell_type": "code",
   "execution_count": 298,
   "id": "f9c510c3",
   "metadata": {},
   "outputs": [],
   "source": [
    "# query = [\n",
    "#     ('11', {\n",
    "#         'node_conditions': ['type == \"round_3_start\"'],\n",
    "#     }),\n",
    "#     ('1', {\n",
    "#         'node_conditions': ['type == \"camp_combat_start\"']\n",
    "#     }),\n",
    "#     ('2', {\n",
    "#         'node_conditions': ['type == \"camp_combat_end\"'],\n",
    "#         'order_conditions': [{\n",
    "#             'node_used': 1,\n",
    "#             'condition': 'start_id_A == end_id_B'\n",
    "#         }]\n",
    "#     }),\n",
    "#     ('3', {\n",
    "#         'node_conditions': ['type == \"round_3_end\"'],\n",
    "#         'order_conditions': [{\n",
    "#             'node_used': 0,\n",
    "#             'condition': 'start_id_A == end_id_B'\n",
    "#         }]\n",
    "#     })\n",
    "# ]"
   ]
  }
 ],
 "metadata": {
  "kernelspec": {
   "display_name": "Python 3 (ipykernel)",
   "language": "python",
   "name": "python3"
  },
  "language_info": {
   "codemirror_mode": {
    "name": "ipython",
    "version": 3
   },
   "file_extension": ".py",
   "mimetype": "text/x-python",
   "name": "python",
   "nbconvert_exporter": "python",
   "pygments_lexer": "ipython3",
   "version": "3.8.15"
  }
 },
 "nbformat": 4,
 "nbformat_minor": 5
}
