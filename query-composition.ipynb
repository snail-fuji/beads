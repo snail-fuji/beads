{
 "cells": [
  {
   "cell_type": "code",
   "execution_count": 1,
   "id": "be87ac3c",
   "metadata": {},
   "outputs": [],
   "source": [
    "%load_ext autoreload\n",
    "\n",
    "%autoreload 2"
   ]
  },
  {
   "cell_type": "code",
   "execution_count": 2,
   "id": "5d14b6ee",
   "metadata": {},
   "outputs": [],
   "source": [
    "import pandas as pd"
   ]
  },
  {
   "cell_type": "code",
   "execution_count": 3,
   "id": "e4834304",
   "metadata": {},
   "outputs": [],
   "source": [
    "import json"
   ]
  },
  {
   "cell_type": "code",
   "execution_count": 4,
   "id": "36b1d05f",
   "metadata": {},
   "outputs": [],
   "source": [
    "import pandas as pd\n",
    "\n",
    "events_df = pd.read_csv('anchors.csv')\n",
    "\n",
    "from beads.simple import SimpleExecutor\n",
    "\n",
    "from beads.composed import ComposedExecutor"
   ]
  },
  {
   "cell_type": "markdown",
   "id": "dd80eaca",
   "metadata": {},
   "source": [
    "# Процессинг старых ивентов"
   ]
  },
  {
   "cell_type": "code",
   "execution_count": 5,
   "id": "432afa43",
   "metadata": {},
   "outputs": [],
   "source": [
    "def time_to_seconds(time_str):\n",
    "    hours, minutes, seconds = map(int, time_str.split(\":\"))\n",
    "    return hours * 3600 + minutes * 60 + seconds\n",
    "\n",
    "events_df['Start_time'] = events_df['Start'].apply(lambda x: time_to_seconds(x))\n",
    "events_df['End_time'] = events_df['End'].apply(lambda x: time_to_seconds(x))\n",
    "\n",
    "query_events_derivative_df = events_df[events_df['Type'] == 'derivative'].rename(columns={\n",
    "    'Participant': 'user_id',\n",
    "    'Feature': 'type',\n",
    "    'Start_time': 'time',\n",
    "})[['user_id', 'type', 'time']]\n",
    "\n",
    "query_events_non_derivative_starts_df = events_df[events_df['Type'] == 'non-derivative'].rename(columns={\n",
    "    'Participant': 'user_id',\n",
    "    'Feature': 'type',\n",
    "    'Start_time': 'time',\n",
    "})[['user_id', 'type', 'time']]\n",
    "\n",
    "query_events_non_derivative_starts_df['type'] += '_start'\n",
    "\n",
    "query_events_non_derivative_starts_df['start_id'] = query_events_non_derivative_starts_df.index\n",
    "\n",
    "query_events_non_derivative_ends_df = events_df[events_df['Type'] == 'non-derivative'].rename(columns={\n",
    "    'Participant': 'user_id',\n",
    "    'Feature': 'type',\n",
    "    'End_time': 'time',\n",
    "})[['user_id', 'type', 'time']]\n",
    "\n",
    "query_events_non_derivative_ends_df['end_id'] = query_events_non_derivative_starts_df.index\n",
    "\n",
    "query_events_non_derivative_ends_df['type'] += '_end'\n",
    "\n",
    "query_events_df = pd.concat([\n",
    "    query_events_derivative_df,\n",
    "    query_events_non_derivative_starts_df,\n",
    "    query_events_non_derivative_ends_df\n",
    "]).reset_index(drop=True)\n",
    "\n",
    "# query_events_df\n",
    "\n",
    "query_events_df['session_id'] = query_events_df['user_id']\n",
    "\n",
    "composed = ComposedExecutor(query_events_df)"
   ]
  },
  {
   "cell_type": "code",
   "execution_count": 6,
   "id": "25f4127d",
   "metadata": {},
   "outputs": [],
   "source": [
    "# composed.query_events_df"
   ]
  },
  {
   "cell_type": "code",
   "execution_count": 7,
   "id": "85d34321",
   "metadata": {},
   "outputs": [],
   "source": [
    "simple_executor = SimpleExecutor(composed.query_events_df)"
   ]
  },
  {
   "cell_type": "markdown",
   "id": "8f4ad9c0",
   "metadata": {},
   "source": [
    "# Что дальше?"
   ]
  },
  {
   "cell_type": "markdown",
   "id": "e5042a58",
   "metadata": {},
   "source": [
    "Для Not, возможно, есть ошибка - "
   ]
  },
  {
   "cell_type": "code",
   "execution_count": 169,
   "id": "28a071ed",
   "metadata": {},
   "outputs": [],
   "source": [
    "query = [{\n",
    "        'node_conditions': ['type == \"round_3_start\"'],\n",
    "    }, {\n",
    "        'node_conditions': ['type == \"camp_combat_start\"']\n",
    "    }, {\n",
    "        'node_conditions': ['type == \"camp_combat_end\"'],\n",
    "        'order_conditions': [{\n",
    "            'node_used': 1,\n",
    "            'condition': 'start_id_A == end_id_B'\n",
    "        }]\n",
    "    }, {\n",
    "        'not': [{\n",
    "            'node_conditions': ['type == \"camp_combat_start\"']\n",
    "        }]\n",
    "    }, {\n",
    "        'node_conditions': ['type == \"round_3_end\"'],\n",
    "        'order_conditions': [{\n",
    "            'node_used': 0,\n",
    "            'condition': 'start_id_A == end_id_B'\n",
    "        }]\n",
    "    }\n",
    "]"
   ]
  },
  {
   "cell_type": "markdown",
   "id": "3f73e5c9",
   "metadata": {},
   "source": [
    "Re"
   ]
  },
  {
   "cell_type": "code",
   "execution_count": 170,
   "id": "bb02e0c5",
   "metadata": {},
   "outputs": [],
   "source": [
    "def index_query(query, base_index):\n",
    "    if isinstance(query, list):\n",
    "        return [index_query(e, f'{base_index}_{i}') for i, e in enumerate(query)]\n",
    "\n",
    "    elif isinstance(query, dict) and any(key in query for key in ['not', 'and', 'or']):\n",
    "        operator = list(query.keys())[0]  # Получаем оператор ('not', 'and', 'or')\n",
    "        return (f'{base_index}_{operator}', {\n",
    "            operator: [\n",
    "                index_query(arg, f'{base_index}_{operator}_{i}') \n",
    "                for i, arg in enumerate(query[operator])\n",
    "            ]\n",
    "        })\n",
    "\n",
    "    else:\n",
    "        return (base_index, query)"
   ]
  },
  {
   "cell_type": "code",
   "execution_count": 171,
   "id": "d6de1398",
   "metadata": {},
   "outputs": [],
   "source": [
    "indexed_query = index_query(query, 'e')"
   ]
  },
  {
   "cell_type": "code",
   "execution_count": 172,
   "id": "968e6d3c",
   "metadata": {},
   "outputs": [],
   "source": [
    "def compose_query_logic(query):\n",
    "    base_query = []\n",
    "    translated_queries = []\n",
    "    \n",
    "    for index, element in query:\n",
    "        if isinstance(element, dict):  # If the element is a dictionary\n",
    "            key = next(iter(element))  # Get the 'not', 'and', or 'or' key\n",
    "            if key == 'not':  # Unary operator\n",
    "                translated_queries.append({\n",
    "                    'type': 'not',\n",
    "                    'query': base_query + element[key]\n",
    "                })\n",
    "            elif key in ('and', 'or'):  # 'and' or 'or' n-ary operators\n",
    "                translated_queries.append({\n",
    "                    'type': key,\n",
    "                    'queries': [\n",
    "                        base_query + sub_element\n",
    "                        for sub_element in element[key]\n",
    "                    ]\n",
    "                })\n",
    "                    \n",
    "            else:\n",
    "                base_query.append((index, element))\n",
    "        else:  # If the element is not a dictionary, it's a base query component\n",
    "            base_query += [(index, element)]\n",
    "    \n",
    "    # Add the base query at the beginning of the result list\n",
    "    translated_queries.insert(0, {'type': 'base', 'query': base_query})\n",
    "    \n",
    "    return translated_queries"
   ]
  },
  {
   "cell_type": "code",
   "execution_count": 187,
   "id": "ad1495b4",
   "metadata": {},
   "outputs": [
    {
     "name": "stdout",
     "output_type": "stream",
     "text": [
      "{'type': 'base', 'query': [(0, 'A0_query'), (2, 'A1_query'), (6, 'A2_query')]}\n",
      "{'type': 'not', 'query': [(0, 'A0_query'), (1, 'B_query'), (0, 'A0_query')]}\n",
      "{'type': 'and', 'query': [(0, 'A0_query'), (2, 'A1_query'), (3, 'C_query'), (0, 'A0_query'), (2, 'A1_query')]}\n",
      "{'type': 'and', 'query': [(0, 'A0_query'), (2, 'A1_query'), (4, 'D_query'), (0, 'A0_query'), (2, 'A1_query')]}\n",
      "{'type': 'and', 'query': [(0, 'A0_query'), (2, 'A1_query'), (5, 'E_query'), (0, 'A0_query'), (2, 'A1_query')]}\n",
      "{'type': 'or', 'query': [(0, 'A0_query'), (2, 'A1_query'), (6, 'A2_query'), (7, 'F_query')]}\n",
      "{'type': 'or', 'query': [(0, 'A0_query'), (2, 'A1_query'), (6, 'A2_query'), (8, 'G_query')]}\n",
      "{'type': 'or', 'query': [(0, 'A0_query'), (2, 'A1_query'), (6, 'A2_query'), (9, 'H_query')]}\n"
     ]
    }
   ],
   "source": [
    "# # Assuming the A0, B, A1, C, D, E, A2, F, G, H are already defined tuples\n",
    "# # For example:\n",
    "# A0 = [(0, 'A0_query')]\n",
    "# B = [(1, 'B_query')]\n",
    "# A1 = [(2, 'A1_query')]\n",
    "# C = [(3, 'C_query')]\n",
    "# D = [(4, 'D_query')]\n",
    "# E = [(5, 'E_query')]\n",
    "# A2 = [(6, 'A2_query')]\n",
    "# F = [(7, 'F_query')]\n",
    "# G = [(8, 'G_query')]\n",
    "# H = [(9, 'H_query')]\n",
    "\n",
    "# # The initial query list\n",
    "# query = [\n",
    "#     A0, {\n",
    "#         'not': B\n",
    "#     }, A1, {\n",
    "#         'and': [C, D, E]\n",
    "#     }, A2, {\n",
    "#         'or': [F, G, H]\n",
    "#     }\n",
    "# ]\n",
    "\n",
    "# # Function to concatenate tuples from different queries\n",
    "# def concatenate(queries):\n",
    "#     return sum(queries, [])\n",
    "\n",
    "# # The translation function\n",
    "# def translate_query(query):\n",
    "#     base_query = []\n",
    "#     translated_queries = []\n",
    "\n",
    "#     for index, item in query:\n",
    "#         if isinstance(item, dict):\n",
    "#             # Logical operators\n",
    "#             for key, value in item.items():\n",
    "#                 if key == 'not':\n",
    "#                     translated_queries.append({\n",
    "#                         'type': 'not',\n",
    "#                         'query': concatenate([base_query, value, base_query])\n",
    "#                     })\n",
    "#                 elif key == 'and':\n",
    "#                     for subquery in value:\n",
    "#                         translated_queries.append({\n",
    "#                             'type': 'and',\n",
    "#                             'query': concatenate([base_query, subquery, base_query])\n",
    "#                         })\n",
    "#                 elif key == 'or':\n",
    "#                     for subquery in value:\n",
    "#                         translated_queries.append({\n",
    "#                             'type': 'or',\n",
    "#                             'query': concatenate([base_query, subquery])\n",
    "#                         })\n",
    "\n",
    "#     # Adding the base query at the beginning\n",
    "#     translated_queries.insert(0, {'type': 'base', 'query': base_query})\n",
    "\n",
    "#     return translated_queries\n",
    "\n",
    "# # Translate the query\n",
    "# queries = translate_query(query)\n",
    "\n",
    "# # Output the translated queries\n",
    "# for q in queries:\n",
    "#     print(q)"
   ]
  },
  {
   "cell_type": "code",
   "execution_count": 185,
   "id": "e77207e3",
   "metadata": {},
   "outputs": [
    {
     "data": {
      "text/plain": [
       "[('e_0', {'node_conditions': ['type == \"round_3_start\"']}),\n",
       " ('e_1', {'node_conditions': ['type == \"camp_combat_start\"']}),\n",
       " ('e_2',\n",
       "  {'node_conditions': ['type == \"camp_combat_end\"'],\n",
       "   'order_conditions': [{'node_used': 1,\n",
       "     'condition': 'start_id_A == end_id_B'}]}),\n",
       " ('e_3_not',\n",
       "  {'not': [('e_3_not_0',\n",
       "     {'node_conditions': ['type == \"camp_combat_start\"']})]}),\n",
       " ('e_4',\n",
       "  {'node_conditions': ['type == \"round_3_end\"'],\n",
       "   'order_conditions': [{'node_used': 0,\n",
       "     'condition': 'start_id_A == end_id_B'}]})]"
      ]
     },
     "execution_count": 185,
     "metadata": {},
     "output_type": "execute_result"
    }
   ],
   "source": [
    "indexed_query"
   ]
  },
  {
   "cell_type": "code",
   "execution_count": 174,
   "id": "cd74b16c",
   "metadata": {},
   "outputs": [
    {
     "data": {
      "text/plain": [
       "[{'type': 'base',\n",
       "  'query': [('e_0', {'node_conditions': ['type == \"round_3_start\"']}),\n",
       "   ('e_1', {'node_conditions': ['type == \"camp_combat_start\"']}),\n",
       "   ('e_2',\n",
       "    {'node_conditions': ['type == \"camp_combat_end\"'],\n",
       "     'order_conditions': [{'node_used': 1,\n",
       "       'condition': 'start_id_A == end_id_B'}]}),\n",
       "   ('e_4',\n",
       "    {'node_conditions': ['type == \"round_3_end\"'],\n",
       "     'order_conditions': [{'node_used': 0,\n",
       "       'condition': 'start_id_A == end_id_B'}]})]},\n",
       " {'type': 'not',\n",
       "  'query': [('e_0', {'node_conditions': ['type == \"round_3_start\"']}),\n",
       "   ('e_1', {'node_conditions': ['type == \"camp_combat_start\"']}),\n",
       "   ('e_2',\n",
       "    {'node_conditions': ['type == \"camp_combat_end\"'],\n",
       "     'order_conditions': [{'node_used': 1,\n",
       "       'condition': 'start_id_A == end_id_B'}]}),\n",
       "   ('e_3_not_0', {'node_conditions': ['type == \"camp_combat_start\"']})]}]"
      ]
     },
     "execution_count": 174,
     "metadata": {},
     "output_type": "execute_result"
    }
   ],
   "source": [
    "compose_query_logic(indexed_query)"
   ]
  },
  {
   "cell_type": "markdown",
   "id": "15f7ed01",
   "metadata": {},
   "source": [
    "Нужно выполнить запросы один за одним, и затем примержить правильно"
   ]
  },
  {
   "cell_type": "code",
   "execution_count": 175,
   "id": "fbeda3d4",
   "metadata": {},
   "outputs": [],
   "source": [
    "def find_intersection(df1, df2):\n",
    "    return [c for c in df1.columns if c in df2.columns]"
   ]
  },
  {
   "cell_type": "code",
   "execution_count": 176,
   "id": "a25fe536",
   "metadata": {},
   "outputs": [],
   "source": [
    "def merge_queries(queries):\n",
    "    base_query = queries[0]['query']\n",
    "    base_result_df = execute_query(base_query)\n",
    "\n",
    "    for query in queries[1:]:\n",
    "        if query['type'] == 'not':\n",
    "            not_result_df = execute_query(query['query'])\n",
    "            events_intersection = find_intersection(base_result_df, not_result_df)\n",
    "            not_result_df['remove'] = True\n",
    "            base_result_df = base_result_df.merge(not_result_df, on=events_intersection, how='left')\n",
    "            base_result_df = base_result_df[base_result_df['remove'] != True].drop(columns='remove').copy()\n",
    "\n",
    "        if query['type'] == 'and':\n",
    "            for subquery in query['queries']:\n",
    "                and_result_df = execute_query(subquery)\n",
    "                events_intersection = find_intersection(base_result_df, and_result_df)\n",
    "                and_result_df['save'] = True\n",
    "                base_result_df = base_result_df.merge(and_result_df, on=events_intersection, how='left')\n",
    "                base_result_df = base_result_df[base_result_df['save'] == True].drop(columns='save').copy()\n",
    "\n",
    "        if query['type'] == 'or':\n",
    "            for i, subquery in enumerate(query['queries']):\n",
    "                or_result_df = execute_query(subquery)\n",
    "                events_intersection = find_intersection(base_result_df, or_result_df)\n",
    "                or_result_df[f'save_{i}'] = 1\n",
    "                base_result_df = base_result_df.merge(or_result_df, on=events_intersection, how='left')\n",
    "\n",
    "            or_fields = [f'save_{i}' for i, _ in enumerate(query['queries'])]\n",
    "            base_result_df['save'] = base_result_df[or_fields].sum(axis=1)\n",
    "            base_result_df = base_result_df[base_result_df['save'] > 0].drop(columns=['save'] + or_fields).copy()\n",
    "    \n",
    "    return base_result_df"
   ]
  },
  {
   "cell_type": "code",
   "execution_count": 177,
   "id": "8555d355",
   "metadata": {},
   "outputs": [],
   "source": [
    "def is_simple_query(query):\n",
    "    if not isinstance(query, list):\n",
    "        assert False, f\"Wrong query given! {query}\"\n",
    "    for index, element in query:\n",
    "        if ('node_conditions' not in element):\n",
    "            return False\n",
    "    return True"
   ]
  },
  {
   "cell_type": "code",
   "execution_count": 178,
   "id": "734ccc0a",
   "metadata": {},
   "outputs": [],
   "source": [
    "def execute_query(query):\n",
    "    if is_simple_query(query):\n",
    "        return simple_executor.execute(query)\n",
    "    \n",
    "    queries = compose_query_logic(query)\n",
    "    print(queries)\n",
    "    return merge_queries(queries)"
   ]
  },
  {
   "cell_type": "code",
   "execution_count": 180,
   "id": "5925ddb9",
   "metadata": {},
   "outputs": [
    {
     "data": {
      "text/plain": [
       "False"
      ]
     },
     "execution_count": 180,
     "metadata": {},
     "output_type": "execute_result"
    }
   ],
   "source": [
    "is_simple_query(indexed_query)"
   ]
  },
  {
   "cell_type": "code",
   "execution_count": 181,
   "id": "b98bd078",
   "metadata": {},
   "outputs": [
    {
     "name": "stdout",
     "output_type": "stream",
     "text": [
      "[{'type': 'base', 'query': [('e_0', {'node_conditions': ['type == \"round_3_start\"']}), ('e_1', {'node_conditions': ['type == \"camp_combat_start\"']}), ('e_2', {'node_conditions': ['type == \"camp_combat_end\"'], 'order_conditions': [{'node_used': 1, 'condition': 'start_id_A == end_id_B'}]}), ('e_4', {'node_conditions': ['type == \"round_3_end\"'], 'order_conditions': [{'node_used': 0, 'condition': 'start_id_A == end_id_B'}]})]}, {'type': 'not', 'query': [('e_0', {'node_conditions': ['type == \"round_3_start\"']}), ('e_1', {'node_conditions': ['type == \"camp_combat_start\"']}), ('e_2', {'node_conditions': ['type == \"camp_combat_end\"'], 'order_conditions': [{'node_used': 1, 'condition': 'start_id_A == end_id_B'}]}), ('e_3_not_0', {'node_conditions': ['type == \"camp_combat_start\"']})]}]\n",
      "Step 1 initiated\n",
      "Step 1 finished\n",
      "Step 2 initiated\n",
      "Step 2 finished\n",
      "Step 3 initiated\n",
      "Step 3 finished\n",
      "Step 1 initiated\n",
      "Step 1 finished\n",
      "Step 2 initiated\n",
      "Step 2 finished\n",
      "Step 3 initiated\n",
      "Step 3 finished\n"
     ]
    }
   ],
   "source": [
    "a_df = execute_query(indexed_query)"
   ]
  },
  {
   "cell_type": "code",
   "execution_count": 182,
   "id": "6ca57a80",
   "metadata": {},
   "outputs": [
    {
     "data": {
      "text/html": [
       "<div>\n",
       "<style scoped>\n",
       "    .dataframe tbody tr th:only-of-type {\n",
       "        vertical-align: middle;\n",
       "    }\n",
       "\n",
       "    .dataframe tbody tr th {\n",
       "        vertical-align: top;\n",
       "    }\n",
       "\n",
       "    .dataframe thead th {\n",
       "        text-align: right;\n",
       "    }\n",
       "</style>\n",
       "<table border=\"1\" class=\"dataframe\">\n",
       "  <thead>\n",
       "    <tr style=\"text-align: right;\">\n",
       "      <th></th>\n",
       "      <th>user_id</th>\n",
       "      <th>event_e_0</th>\n",
       "      <th>event_e_1</th>\n",
       "      <th>event_e_2</th>\n",
       "      <th>event_e_4</th>\n",
       "      <th>event_e_3_not_0</th>\n",
       "    </tr>\n",
       "  </thead>\n",
       "  <tbody>\n",
       "    <tr>\n",
       "      <th>9</th>\n",
       "      <td>144-1</td>\n",
       "      <td>298</td>\n",
       "      <td>389</td>\n",
       "      <td>406</td>\n",
       "      <td>408</td>\n",
       "      <td>NaN</td>\n",
       "    </tr>\n",
       "    <tr>\n",
       "      <th>10</th>\n",
       "      <td>144-1</td>\n",
       "      <td>298</td>\n",
       "      <td>399</td>\n",
       "      <td>407</td>\n",
       "      <td>408</td>\n",
       "      <td>NaN</td>\n",
       "    </tr>\n",
       "    <tr>\n",
       "      <th>804</th>\n",
       "      <td>292-2</td>\n",
       "      <td>239</td>\n",
       "      <td>283</td>\n",
       "      <td>330</td>\n",
       "      <td>370</td>\n",
       "      <td>NaN</td>\n",
       "    </tr>\n",
       "    <tr>\n",
       "      <th>805</th>\n",
       "      <td>292-2</td>\n",
       "      <td>239</td>\n",
       "      <td>284</td>\n",
       "      <td>331</td>\n",
       "      <td>370</td>\n",
       "      <td>NaN</td>\n",
       "    </tr>\n",
       "    <tr>\n",
       "      <th>806</th>\n",
       "      <td>292-2</td>\n",
       "      <td>239</td>\n",
       "      <td>294</td>\n",
       "      <td>332</td>\n",
       "      <td>370</td>\n",
       "      <td>NaN</td>\n",
       "    </tr>\n",
       "    <tr>\n",
       "      <th>807</th>\n",
       "      <td>292-2</td>\n",
       "      <td>239</td>\n",
       "      <td>295</td>\n",
       "      <td>333</td>\n",
       "      <td>370</td>\n",
       "      <td>NaN</td>\n",
       "    </tr>\n",
       "    <tr>\n",
       "      <th>808</th>\n",
       "      <td>292-2</td>\n",
       "      <td>239</td>\n",
       "      <td>302</td>\n",
       "      <td>334</td>\n",
       "      <td>370</td>\n",
       "      <td>NaN</td>\n",
       "    </tr>\n",
       "    <tr>\n",
       "      <th>809</th>\n",
       "      <td>292-2</td>\n",
       "      <td>239</td>\n",
       "      <td>303</td>\n",
       "      <td>335</td>\n",
       "      <td>370</td>\n",
       "      <td>NaN</td>\n",
       "    </tr>\n",
       "    <tr>\n",
       "      <th>810</th>\n",
       "      <td>292-2</td>\n",
       "      <td>239</td>\n",
       "      <td>310</td>\n",
       "      <td>336</td>\n",
       "      <td>370</td>\n",
       "      <td>NaN</td>\n",
       "    </tr>\n",
       "    <tr>\n",
       "      <th>811</th>\n",
       "      <td>292-2</td>\n",
       "      <td>239</td>\n",
       "      <td>311</td>\n",
       "      <td>337</td>\n",
       "      <td>370</td>\n",
       "      <td>NaN</td>\n",
       "    </tr>\n",
       "    <tr>\n",
       "      <th>893</th>\n",
       "      <td>345-2</td>\n",
       "      <td>82</td>\n",
       "      <td>361</td>\n",
       "      <td>403</td>\n",
       "      <td>408</td>\n",
       "      <td>NaN</td>\n",
       "    </tr>\n",
       "    <tr>\n",
       "      <th>894</th>\n",
       "      <td>345-2</td>\n",
       "      <td>82</td>\n",
       "      <td>371</td>\n",
       "      <td>404</td>\n",
       "      <td>408</td>\n",
       "      <td>NaN</td>\n",
       "    </tr>\n",
       "    <tr>\n",
       "      <th>895</th>\n",
       "      <td>345-2</td>\n",
       "      <td>82</td>\n",
       "      <td>383</td>\n",
       "      <td>405</td>\n",
       "      <td>408</td>\n",
       "      <td>NaN</td>\n",
       "    </tr>\n",
       "    <tr>\n",
       "      <th>896</th>\n",
       "      <td>345-2</td>\n",
       "      <td>82</td>\n",
       "      <td>384</td>\n",
       "      <td>406</td>\n",
       "      <td>408</td>\n",
       "      <td>NaN</td>\n",
       "    </tr>\n",
       "    <tr>\n",
       "      <th>1132</th>\n",
       "      <td>391-2</td>\n",
       "      <td>187</td>\n",
       "      <td>475</td>\n",
       "      <td>492</td>\n",
       "      <td>495</td>\n",
       "      <td>NaN</td>\n",
       "    </tr>\n",
       "    <tr>\n",
       "      <th>1133</th>\n",
       "      <td>391-2</td>\n",
       "      <td>187</td>\n",
       "      <td>476</td>\n",
       "      <td>493</td>\n",
       "      <td>495</td>\n",
       "      <td>NaN</td>\n",
       "    </tr>\n",
       "  </tbody>\n",
       "</table>\n",
       "</div>"
      ],
      "text/plain": [
       "     user_id  event_e_0  event_e_1  event_e_2  event_e_4  event_e_3_not_0\n",
       "9      144-1        298        389        406        408              NaN\n",
       "10     144-1        298        399        407        408              NaN\n",
       "804    292-2        239        283        330        370              NaN\n",
       "805    292-2        239        284        331        370              NaN\n",
       "806    292-2        239        294        332        370              NaN\n",
       "807    292-2        239        295        333        370              NaN\n",
       "808    292-2        239        302        334        370              NaN\n",
       "809    292-2        239        303        335        370              NaN\n",
       "810    292-2        239        310        336        370              NaN\n",
       "811    292-2        239        311        337        370              NaN\n",
       "893    345-2         82        361        403        408              NaN\n",
       "894    345-2         82        371        404        408              NaN\n",
       "895    345-2         82        383        405        408              NaN\n",
       "896    345-2         82        384        406        408              NaN\n",
       "1132   391-2        187        475        492        495              NaN\n",
       "1133   391-2        187        476        493        495              NaN"
      ]
     },
     "execution_count": 182,
     "metadata": {},
     "output_type": "execute_result"
    }
   ],
   "source": [
    "a_df"
   ]
  }
 ],
 "metadata": {
  "kernelspec": {
   "display_name": "Python 3 (ipykernel)",
   "language": "python",
   "name": "python3"
  },
  "language_info": {
   "codemirror_mode": {
    "name": "ipython",
    "version": 3
   },
   "file_extension": ".py",
   "mimetype": "text/x-python",
   "name": "python",
   "nbconvert_exporter": "python",
   "pygments_lexer": "ipython3",
   "version": "3.8.15"
  }
 },
 "nbformat": 4,
 "nbformat_minor": 5
}
